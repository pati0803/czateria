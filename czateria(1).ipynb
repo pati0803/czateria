{
  "nbformat": 4,
  "nbformat_minor": 0,
  "metadata": {
    "colab": {
      "provenance": []
    },
    "kernelspec": {
      "name": "python3",
      "display_name": "Python 3"
    },
    "language_info": {
      "name": "python"
    }
  },
  "cells": [
    {
      "cell_type": "code",
      "execution_count": null,
      "metadata": {
        "id": "N4bRSdCzUkCx"
      },
      "outputs": [],
      "source": []
    },
    {
      "cell_type": "markdown",
      "source": [
        "Ojciec **Nobla**, inżynier i wynalazca, po niepowodzeniach biznesowych przeniósł się w 1837 do Sankt Petersburga. Odniósłszy tam sukces na polu produkcji materiałów wybuchowych i maszyn, w 1842 ściągnął tam swoją rodzinę. Alfred pobierał tam nauki u prywatnych nauczycieli. W wieku 16 lat biegle władał językami angielskim, francuskim, niemieckim i rosyjskim.\n",
        "\n",
        "W 1850 udał się do Paryża, gdzie spędził rok, studiując chemię; następnie przeniósł się do Stanów Zjednoczonych, gdzie pracował pod kierunkiem Johna Ericssona. Po powrocie do stolicy Rosji podjął pracę w należącej do ojca fabryce wytwarzającej sprzęt wojskowy na potrzeby wojny krymskiej.\n",
        "\n",
        "Gdy w **1856** wojna dobiegła końca, fabryka miała trudności z przestawieniem się na produkcję pokojową i zbankrutowała w 1859. Alfred powrócił wtedy wraz z rodzicami do Szwecji. Bracia Alfreda, Robert i Ludvig,\n",
        "\n",
        "*   eruj\n",
        "*   yvkug\n",
        "\n",
        "pozostali w Rosji, by ratować rodzinny biznes; zarobili majątek dzięki eksploatacji pól naftowych w rejonie Baku"
      ],
      "metadata": {
        "id": "cuSjxgXWVEBf"
      }
    },
    {
      "cell_type": "markdown",
      "source": [],
      "metadata": {
        "id": "eztBqi2mCMmy"
      }
    },
    {
      "cell_type": "markdown",
      "source": [
        "Które z następujących zadań wymagają w Twojej opinii inteligencji od człowieka:\n",
        "\n",
        "wypełnianie deklaracji PIT\n",
        "**streszczanie** **tekstu**,\n",
        "**tłumaczenie** **tekstu**,\n",
        "**klasyfikacja** **tekstu** **do** **kategorii** **tematycznych**,\n",
        "odpowiadanie na proste pytania zadawane w języku naturalnym (np. polskim),\n",
        "układanie rozkładu jazdy transportu miejskiego,\n",
        "**programowanie** (**pisanie** **programów** **komputerowych**),\n",
        "„programowanie” kanałów telewizyjnych,\n",
        "testowanie oprogramowania,\n",
        "**komponowanie** **muzyki**,\n",
        "**rozwiązywanie** **układów** **równań**,\n",
        "**symboliczne** **obliczanie** **pochodnych** **funkcji**,\n",
        "**symboliczne** **całkowanie** **funkcji**,\n",
        "kierowanie samochodem.\n",
        "\n",
        "Które z następujących problemów można uznać za mieszczące się w zakresie sztucznej\n",
        "inteligencji:\n",
        "• **streszczanie** **tekstu**,\n",
        "• **tłumaczenie** **tekstu**,\n",
        "• klasyfikacja tekstu do kategorii tematycznych,\n",
        "• **odpowiadanie** **na** **proste** **pytania** **zadawane** **w** **języku** **naturalnym**,\n",
        "• **rozwiązywanie** **układów** **równań**,\n",
        "• układanie rozkładu jazdy,\n",
        "• **rozwiązywanie** **układów** **równań** **liniowych**,\n",
        "• symboliczne obliczanie pochodnych,\n",
        "• symboliczne całkowanie,\n",
        "• kierowanie samochodem."
      ],
      "metadata": {
        "id": "4EltSa7C_vM5"
      }
    },
    {
      "cell_type": "markdown",
      "source": [
        "Które z poniższych rodzajów komunikacyjnego zachowania człowieka mogą być\n",
        "obecnie skutecznie imitowane przez sztuczne systemy (odpowiednio oprogramowane\n",
        "maszyny):\n",
        "• **rozmowa** **towarzyska**,\n",
        "• dyskusja polityczna,\n",
        "• dyskusja naukowa,\n",
        "• **odpowiadanie** **na** **pytania** **klientów** **w** **telefonicznej** **infolinii**,\n",
        "• **odpowiadanie** **na** **pytania** **klientów** **w** **internetowej** **infolinii**"
      ],
      "metadata": {
        "id": "6MEyIe43G4De"
      }
    },
    {
      "cell_type": "markdown",
      "source": [
        "Do zadań skorzystaj z załączonej listy Chatbotów (Chatterbotów) lub znajdź własne.\n",
        "1. Przeprowadź rozmowę z chatbotem. Spróbuj zdefiniować różnice pomiędzy\n",
        "botem udającym człowieka (przygotowywanym na test Turinga) a botem\n",
        "„asystentem, służącym”.\n",
        "2. Sprawdź dwa boty z obu z tych rodzajów na występowanie zachowań:\n",
        "a) opowiadanie żartów,\n",
        "b) przytaczanie cytatów z twoich wypowiedzi, lub znanych osób,\n",
        "c) nawiązywanie wypowiedzi do słów kluczowych,\n",
        "d) zadawanie dużej liczby pytań,\n",
        "e) powracanie do początku wypowiedzi, sekwencyjne powtarzanie,\n",
        "f) zadawanie pytań powstających z twoich wypowiedzi,\n",
        "g) odpowiadanie wymijająco, ogólnikowo,\n",
        "h) częsta zmiana tematu rozmowy,\n",
        "i) problemy z utrzymaniem wątków.\n",
        "3. Sporządź raport ze spostrzeżeń.\n",
        "4. Na podstawie powyższych obserwacji, w grupie dwóch osób spróbujcie prze-\n",
        "widzieć zachowania dwóch rozmawiających ze sobą chatbotów (przepisując ich\n",
        "wzajemne odpowiedzi).\n",
        "5. Zdenerwuj bota 😊😊\n",
        "\n",
        "Żarty obu botów nie są na wysokim poziomie, ograniczają się jedynie do typowych \"sucharów\", które można szybko znaleść w internecie. Bot \"asystent\" potrafi przytaczać wypowiedzi z danej rozmowy i zapamiętywać informacje, korzysta również z szyfru, jeżeli został o to poproszony. Cleverbot szybko zapomina o wcześniejszych wypowiedziach, nie potrafi np przywołać imienia rozmówcy oraz gdy rozmówca 'odbija' pytanie zadane przez bota, ten często nie wie już o co rozmówca go pyta.  "
      ],
      "metadata": {
        "id": "i_ixHmJ8e55y"
      }
    }
  ]
}