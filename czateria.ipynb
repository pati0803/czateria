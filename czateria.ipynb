{
  "nbformat": 4,
  "nbformat_minor": 0,
  "metadata": {
    "colab": {
      "provenance": []
    },
    "kernelspec": {
      "name": "python3",
      "display_name": "Python 3"
    },
    "language_info": {
      "name": "python"
    }
  },
  "cells": [
    {
      "cell_type": "code",
      "execution_count": null,
      "metadata": {
        "id": "N4bRSdCzUkCx"
      },
      "outputs": [],
      "source": []
    },
    {
      "cell_type": "markdown",
      "source": [
        "Ojciec **Nobla**, inżynier i wynalazca, po niepowodzeniach biznesowych przeniósł się w 1837 do Sankt Petersburga. Odniósłszy tam sukces na polu produkcji materiałów wybuchowych i maszyn, w 1842 ściągnął tam swoją rodzinę. Alfred pobierał tam nauki u prywatnych nauczycieli. W wieku 16 lat biegle władał językami angielskim, francuskim, niemieckim i rosyjskim.\n",
        "\n",
        "W 1850 udał się do Paryża, gdzie spędził rok, studiując chemię; następnie przeniósł się do Stanów Zjednoczonych, gdzie pracował pod kierunkiem Johna Ericssona. Po powrocie do stolicy Rosji podjął pracę w należącej do ojca fabryce wytwarzającej sprzęt wojskowy na potrzeby wojny krymskiej.\n",
        "\n",
        "Gdy w **1856** wojna dobiegła końca, fabryka miała trudności z przestawieniem się na produkcję pokojową i zbankrutowała w 1859. Alfred powrócił wtedy wraz z rodzicami do Szwecji. Bracia Alfreda, Robert i Ludvig,\n",
        "\n",
        "*   eruj\n",
        "*   yvkug\n",
        "\n",
        "pozostali w Rosji, by ratować rodzinny biznes; zarobili majątek dzięki eksploatacji pól naftowych w rejonie Baku"
      ],
      "metadata": {
        "id": "cuSjxgXWVEBf"
      }
    },
    {
      "cell_type": "markdown",
      "source": [],
      "metadata": {
        "id": "eztBqi2mCMmy"
      }
    },
    {
      "cell_type": "markdown",
      "source": [
        "Które z następujących zadań wymagają w Twojej opinii inteligencji od człowieka:\n",
        "\n",
        "wypełnianie deklaracji PIT\n",
        "**streszczanie** **tekstu**,\n",
        "**tłumaczenie** **tekstu**,\n",
        "**klasyfikacja** **tekstu** **do** **kategorii** **tematycznych**,\n",
        "odpowiadanie na proste pytania zadawane w języku naturalnym (np. polskim),\n",
        "układanie rozkładu jazdy transportu miejskiego,\n",
        "**programowanie** (**pisanie** **programów** **komputerowych**),\n",
        "„programowanie” kanałów telewizyjnych,\n",
        "testowanie oprogramowania,\n",
        "**komponowanie** **muzyki**,\n",
        "**rozwiązywanie** **układów** **równań**,\n",
        "**symboliczne** **obliczanie** **pochodnych** **funkcji**,\n",
        "**symboliczne** **całkowanie** **funkcji**,\n",
        "kierowanie samochodem.\n",
        "\n",
        "Które z następujących problemów można uznać za mieszczące się w zakresie sztucznej\n",
        "inteligencji:\n",
        "• **streszczanie** **tekstu**,\n",
        "• **tłumaczenie** **tekstu**,\n",
        "• klasyfikacja tekstu do kategorii tematycznych,\n",
        "• **odpowiadanie** **na** **proste** **pytania** **zadawane** **w** **języku** **naturalnym**,\n",
        "• **rozwiązywanie** **układów** **równań**,\n",
        "• układanie rozkładu jazdy,\n",
        "• **rozwiązywanie** **układów** **równań** **liniowych**,\n",
        "• symboliczne obliczanie pochodnych,\n",
        "• symboliczne całkowanie,\n",
        "• kierowanie samochodem."
      ],
      "metadata": {
        "id": "4EltSa7C_vM5"
      }
    },
    {
      "cell_type": "markdown",
      "source": [
        "Które z poniższych rodzajów komunikacyjnego zachowania człowieka mogą być\n",
        "obecnie skutecznie imitowane przez sztuczne systemy (odpowiednio oprogramowane\n",
        "maszyny):\n",
        "• **rozmowa** **towarzyska**,\n",
        "• dyskusja polityczna,\n",
        "• dyskusja naukowa,\n",
        "• **odpowiadanie** **na** **pytania** **klientów** **w** **telefonicznej** **infolinii**,\n",
        "• **odpowiadanie** **na** **pytania** **klientów** **w** **internetowej** **infolinii**"
      ],
      "metadata": {
        "id": "6MEyIe43G4De"
      }
    },
    {
      "cell_type": "markdown",
      "source": [
        "Do zadań skorzystaj z załączonej listy Chatbotów (Chatterbotów) lub znajdź własne.\n",
        "1. Przeprowadź rozmowę z chatbotem. Spróbuj zdefiniować różnice pomiędzy\n",
        "botem udającym człowieka (przygotowywanym na test Turinga) a botem\n",
        "„asystentem, służącym”.\n",
        "2. Sprawdź dwa boty z obu z tych rodzajów na występowanie zachowań:\n",
        "a) opowiadanie żartów,\n",
        "b) przytaczanie cytatów z twoich wypowiedzi, lub znanych osób,\n",
        "c) nawiązywanie wypowiedzi do słów kluczowych,\n",
        "d) zadawanie dużej liczby pytań,\n",
        "e) powracanie do początku wypowiedzi, sekwencyjne powtarzanie,\n",
        "f) zadawanie pytań powstających z twoich wypowiedzi,\n",
        "g) odpowiadanie wymijająco, ogólnikowo,\n",
        "h) częsta zmiana tematu rozmowy,\n",
        "i) problemy z utrzymaniem wątków.\n",
        "3. Sporządź raport ze spostrzeżeń.\n",
        "4. Na podstawie powyższych obserwacji, w grupie dwóch osób spróbujcie prze-\n",
        "widzieć zachowania dwóch rozmawiających ze sobą chatbotów (przepisując ich\n",
        "wzajemne odpowiedzi).\n",
        "5. Zdenerwuj bota 😊😊\n",
        "\n",
        "Bot, którego celem jest zaliczenie testu Turinga, utrzymuje bardziej naturalną konwersację. Próbuje wykrywać i interpretować emocje, humor i kontekst rozmowy. Natomiast bot “asystent” jest stworzony do wykonywania określonych zadań. Pomaga użytkownikowi odpowiadając na jego pytania, dostarczając informacje czy zajmując się planowaniem. Nie stara się naśladować ludzkiej mowy czy reakcji.\n",
        "\n",
        "Bot imitujący człowieka potrafi wprowadzić humor do rozmowy z własnej inicjatywy, czego bot asystent nie robi. Gdy zapytamy boty o opowiedzenie żartu, oba to bez większych problemów wykonują, jednak żarty te są bardzo “podstawowe”. Cytaty przytoczone przez chat GPT, skupiają się na kontekście rozmowy jeżeli jest to wymagane, a z kolei cleverbota były raczej naturalne i na celu miały drażnienie użytkownika (często zmienione na niekorzyść). Boty imitujące człowieka zadaja proste pytania, aby wyglądało na to że jest zaangażowany w rozmowę. Gdy asystenci zadają konkretne pytania dotyczące tematu rozmowy aby jak najbardziej zrozumieć i pomóc użytkownikowi. Po udzieleniu odpowiedzi przez użytkownika na te pytania asystent dalej pamięta początkowe pytanie i może do niego powrócić bez konieczności powtarzania go, z czym bot imitujący człowieka sobie nie radzi podczas dynamicznej rozmowy. Bot imitujący człowieka lepiej radzi sobie z formułowaniem pytań wynikających z kontekstu rozmowy, ale szybko też potrafi zmienić temat na zupełnie inna kategorię, podczas gdy bot asystent często kieruje rozmowę ku realizacji konkretnego zadania i nie zbacza z tematu. Claverbot czasem unika konkretnych odpowiedzi oraz potrafi odpowiedzieć inaczej na to samo pytanie w tej samej konwersacji. Bot asystent jest bardziej przewidywalny i bezpośredni.\n"
      ],
      "metadata": {
        "id": "i_ixHmJ8e55y"
      }
    }
  ]
}